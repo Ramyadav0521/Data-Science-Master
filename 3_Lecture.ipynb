{
 "cells": [
  {
   "cell_type": "code",
   "execution_count": 1,
   "id": "adcc5b1c-8de3-4bc9-b823-a92e175b988d",
   "metadata": {},
   "outputs": [],
   "source": [
    "d = {} #dict variavble  "
   ]
  },
  {
   "cell_type": "code",
   "execution_count": 2,
   "id": "8d5df334-8323-4210-b1ef-022fce88c62f",
   "metadata": {},
   "outputs": [
    {
     "data": {
      "text/plain": [
       "dict"
      ]
     },
     "execution_count": 2,
     "metadata": {},
     "output_type": "execute_result"
    }
   ],
   "source": [
    "type(d)"
   ]
  },
  {
   "cell_type": "code",
   "execution_count": 3,
   "id": "09e8fa3b-faed-447d-b1c6-58ab5cda46be",
   "metadata": {},
   "outputs": [],
   "source": [
    "ram = {'key' : \"Yadav\"}"
   ]
  },
  {
   "cell_type": "code",
   "execution_count": 4,
   "id": "f3b82fd5-7e29-4412-b34b-365d351196e2",
   "metadata": {},
   "outputs": [
    {
     "data": {
      "text/plain": [
       "{'key': 'Yadav'}"
      ]
     },
     "execution_count": 4,
     "metadata": {},
     "output_type": "execute_result"
    }
   ],
   "source": [
    "ram "
   ]
  },
  {
   "cell_type": "code",
   "execution_count": 5,
   "id": "ab384334-d82b-4ca8-aeb6-e68d70d303e1",
   "metadata": {},
   "outputs": [],
   "source": [
    "ram = {'Ram' : \"Yadav\"}"
   ]
  },
  {
   "cell_type": "code",
   "execution_count": 6,
   "id": "b32c8f5c-3c49-4d2b-bee9-1f99928ca493",
   "metadata": {},
   "outputs": [
    {
     "data": {
      "text/plain": [
       "{'Ram': 'Yadav'}"
      ]
     },
     "execution_count": 6,
     "metadata": {},
     "output_type": "execute_result"
    }
   ],
   "source": [
    "ram "
   ]
  },
  {
   "cell_type": "code",
   "execution_count": 7,
   "id": "0cbeea2d-43b4-4e1f-b08c-9b67b29eb881",
   "metadata": {},
   "outputs": [],
   "source": [
    "d2 = {'name' : 'Ram' , \"Email\" : \"ramyadav0521@gmail.com\", \"number\" : 6559754}"
   ]
  },
  {
   "cell_type": "code",
   "execution_count": 8,
   "id": "b80c450b-26fa-488f-90d4-b552c9cd84d7",
   "metadata": {},
   "outputs": [
    {
     "data": {
      "text/plain": [
       "{'name': 'Ram', 'Email': 'ramyadav0521@gmail.com', 'number': 6559754}"
      ]
     },
     "execution_count": 8,
     "metadata": {},
     "output_type": "execute_result"
    }
   ],
   "source": [
    "d2"
   ]
  },
  {
   "cell_type": "code",
   "execution_count": 12,
   "id": "3ab68d08-1075-42d2-9d52-627350fe28d9",
   "metadata": {},
   "outputs": [],
   "source": [
    "d3 = {235 : \"ram\", 'wer' : \"Kumar\",True : 255455 }"
   ]
  },
  {
   "cell_type": "code",
   "execution_count": 13,
   "id": "0918bd12-4240-4a37-b6ce-b00e1b82bc64",
   "metadata": {},
   "outputs": [
    {
     "data": {
      "text/plain": [
       "{235: 'ram', 'wer': 'Kumar'}"
      ]
     },
     "execution_count": 13,
     "metadata": {},
     "output_type": "execute_result"
    }
   ],
   "source": [
    "d3"
   ]
  },
  {
   "cell_type": "code",
   "execution_count": 14,
   "id": "123e82b4-9241-477f-bafd-9b3619b8847e",
   "metadata": {},
   "outputs": [
    {
     "data": {
      "text/plain": [
       "'ram'"
      ]
     },
     "execution_count": 14,
     "metadata": {},
     "output_type": "execute_result"
    }
   ],
   "source": [
    "d3[235]"
   ]
  },
  {
   "cell_type": "code",
   "execution_count": 17,
   "id": "d110731d-e887-4924-937a-df335b8187c9",
   "metadata": {},
   "outputs": [
    {
     "data": {
      "text/plain": [
       "'ram'"
      ]
     },
     "execution_count": 17,
     "metadata": {},
     "output_type": "execute_result"
    }
   ],
   "source": [
    "d3[235]"
   ]
  },
  {
   "cell_type": "code",
   "execution_count": 18,
   "id": "ebfe5282-d0cc-4526-abb8-03e93de8a135",
   "metadata": {},
   "outputs": [
    {
     "ename": "KeyError",
     "evalue": "True",
     "output_type": "error",
     "traceback": [
      "\u001b[0;31m---------------------------------------------------------------------------\u001b[0m",
      "\u001b[0;31mKeyError\u001b[0m                                  Traceback (most recent call last)",
      "Cell \u001b[0;32mIn[18], line 1\u001b[0m\n\u001b[0;32m----> 1\u001b[0m \u001b[43md3\u001b[49m\u001b[43m[\u001b[49m\u001b[38;5;28;43;01mTrue\u001b[39;49;00m\u001b[43m]\u001b[49m\n",
      "\u001b[0;31mKeyError\u001b[0m: True"
     ]
    }
   ],
   "source": [
    "d3[True]"
   ]
  },
  {
   "cell_type": "code",
   "execution_count": 19,
   "id": "a293d88d-18c9-4fb3-b1fe-ee9d05f1e2fb",
   "metadata": {},
   "outputs": [
    {
     "data": {
      "text/plain": [
       "{235: 'ram', 'wer': 'Kumar'}"
      ]
     },
     "execution_count": 19,
     "metadata": {},
     "output_type": "execute_result"
    }
   ],
   "source": [
    "d3"
   ]
  },
  {
   "cell_type": "code",
   "execution_count": 23,
   "id": "550226d7-28ce-4bcf-a5bc-b667a63b9d69",
   "metadata": {},
   "outputs": [
    {
     "data": {
      "text/plain": [
       "'ram'"
      ]
     },
     "execution_count": 23,
     "metadata": {},
     "output_type": "execute_result"
    }
   ],
   "source": [
    "d3[235]"
   ]
  },
  {
   "cell_type": "code",
   "execution_count": null,
   "id": "5825bd8f-576d-47b8-8460-59db135cb80d",
   "metadata": {},
   "outputs": [],
   "source": []
  },
  {
   "cell_type": "code",
   "execution_count": 28,
   "id": "23a560be-1819-4b1a-ba01-c09e7a68e508",
   "metadata": {},
   "outputs": [],
   "source": [
    "d4 = {'name' : \"ram\", 'mail_id':\"ramyadav0521@gamil.com\", \"ram1\":\"Yadav\"}"
   ]
  },
  {
   "cell_type": "code",
   "execution_count": 29,
   "id": "5319b8e0-72df-40a5-9610-b773c0dcceba",
   "metadata": {},
   "outputs": [
    {
     "data": {
      "text/plain": [
       "{'name': 'ram', 'mail_id': 'ramyadav0521@gamil.com', 'ram1': 'Yadav'}"
      ]
     },
     "execution_count": 29,
     "metadata": {},
     "output_type": "execute_result"
    }
   ],
   "source": [
    "d4"
   ]
  },
  {
   "cell_type": "code",
   "execution_count": 30,
   "id": "9e128740-d2bc-473c-8a7e-f6a1bc40c98d",
   "metadata": {},
   "outputs": [
    {
     "data": {
      "text/plain": [
       "'ram'"
      ]
     },
     "execution_count": 30,
     "metadata": {},
     "output_type": "execute_result"
    }
   ],
   "source": [
    "d4['name']"
   ]
  },
  {
   "cell_type": "code",
   "execution_count": 33,
   "id": "5355ef72-cb4b-4a32-bbdf-70b96171734d",
   "metadata": {},
   "outputs": [
    {
     "data": {
      "text/plain": [
       "'ramyadav0521@gamil.com'"
      ]
     },
     "execution_count": 33,
     "metadata": {},
     "output_type": "execute_result"
    }
   ],
   "source": [
    "d4['mail_id']"
   ]
  },
  {
   "cell_type": "code",
   "execution_count": 35,
   "id": "46337889-e05b-43d6-8871-47f014d20371",
   "metadata": {},
   "outputs": [],
   "source": [
    "d5 = {\"Company\" : \"Pwskills\", \"Course\" : [\"Web dev\", \"data science\", \"java with dsa\"]}"
   ]
  },
  {
   "cell_type": "code",
   "execution_count": 41,
   "id": "8e7a8e98-be3a-43c1-9623-bb7bf632cb72",
   "metadata": {},
   "outputs": [
    {
     "data": {
      "text/plain": [
       "{'Company': 'Pwskills', 'Course': ['Web dev', 'data science', 'java with dsa']}"
      ]
     },
     "execution_count": 41,
     "metadata": {},
     "output_type": "execute_result"
    }
   ],
   "source": [
    "d5"
   ]
  },
  {
   "cell_type": "code",
   "execution_count": 49,
   "id": "5d356004-5225-4327-9d53-d26b12e7bae3",
   "metadata": {},
   "outputs": [
    {
     "ename": "SyntaxError",
     "evalue": "incomplete input (1126431705.py, line 1)",
     "output_type": "error",
     "traceback": [
      "\u001b[0;36m  Cell \u001b[0;32mIn[49], line 1\u001b[0;36m\u001b[0m\n\u001b[0;31m    d6 = {\"number\" : [2,34,3,34,34], \"assignmrnt\" :(1,2,3,4,5,6), \"launch_date\":{28,12,14}\u001b[0m\n\u001b[0m                                                                                          ^\u001b[0m\n\u001b[0;31mSyntaxError\u001b[0m\u001b[0;31m:\u001b[0m incomplete input\n"
     ]
    }
   ],
   "source": [
    "d6 = {\"number\" : [2,34,3,34,34], \"assignmrnt\" :(1,2,3,4,5,6), \"launch_date\":{28,12,14}"
   ]
  },
  {
   "cell_type": "code",
   "execution_count": 50,
   "id": "22e21e05-fadf-4df7-a74b-aba07c964448",
   "metadata": {},
   "outputs": [
    {
     "data": {
      "text/plain": [
       "{'number': [2, 34, 3, 34, 34],\n",
       " 'assignmrnt': (1, 2, 3, 4, 5, 6),\n",
       " 'launch_date': {12, 14, 28}}"
      ]
     },
     "execution_count": 50,
     "metadata": {},
     "output_type": "execute_result"
    }
   ],
   "source": [
    "d6"
   ]
  },
  {
   "cell_type": "code",
   "execution_count": 51,
   "id": "ac48d865-4bb4-4bd8-8ff2-644e745892ec",
   "metadata": {},
   "outputs": [
    {
     "data": {
      "text/plain": [
       "{'number': [2, 34, 3, 34, 34],\n",
       " 'assignmrnt': (1, 2, 3, 4, 5, 6),\n",
       " 'launch_date': {12, 14, 28}}"
      ]
     },
     "execution_count": 51,
     "metadata": {},
     "output_type": "execute_result"
    }
   ],
   "source": [
    "d6"
   ]
  },
  {
   "cell_type": "code",
   "execution_count": 52,
   "id": "25734451-1038-40c1-b58c-f4bbbd8d16d4",
   "metadata": {},
   "outputs": [],
   "source": [
    "d7 = {\"book\" : [\"python\",'HTML',\"data science\"]}"
   ]
  },
  {
   "cell_type": "code",
   "execution_count": 53,
   "id": "dc49b530-ec4a-4960-8a68-c34e07f90534",
   "metadata": {},
   "outputs": [
    {
     "data": {
      "text/plain": [
       "{'book': ['python', 'HTML', 'data science']}"
      ]
     },
     "execution_count": 53,
     "metadata": {},
     "output_type": "execute_result"
    }
   ],
   "source": [
    "d7"
   ]
  },
  {
   "cell_type": "code",
   "execution_count": 54,
   "id": "08ceed07-da03-4644-b41d-7a8fbd60c46d",
   "metadata": {},
   "outputs": [
    {
     "data": {
      "text/plain": [
       "['python', 'HTML', 'data science']"
      ]
     },
     "execution_count": 54,
     "metadata": {},
     "output_type": "execute_result"
    }
   ],
   "source": [
    "d7['book']"
   ]
  },
  {
   "cell_type": "code",
   "execution_count": 55,
   "id": "7fa3e3c7-f2d1-499e-87fa-96e2b3c059b5",
   "metadata": {},
   "outputs": [],
   "source": [
    "d6['mentor'] = [\"sudh\",\"krish\",\"anurag\",\"hayder\"]"
   ]
  },
  {
   "cell_type": "code",
   "execution_count": 56,
   "id": "4c4f1d0e-cae9-4776-816b-373fe343eca1",
   "metadata": {},
   "outputs": [
    {
     "data": {
      "text/plain": [
       "{'number': [2, 34, 3, 34, 34],\n",
       " 'assignmrnt': (1, 2, 3, 4, 5, 6),\n",
       " 'launch_date': {12, 14, 28},\n",
       " 'mentor': ['sudh', 'krish', 'anurag', 'hayder']}"
      ]
     },
     "execution_count": 56,
     "metadata": {},
     "output_type": "execute_result"
    }
   ],
   "source": [
    "d6"
   ]
  },
  {
   "cell_type": "code",
   "execution_count": 58,
   "id": "bf71ef72-5569-4648-abb6-6cee3a4ea9cf",
   "metadata": {},
   "outputs": [],
   "source": [
    "d6['book'] = ('python', 'c-lan')"
   ]
  },
  {
   "cell_type": "code",
   "execution_count": 59,
   "id": "c76d3f1a-0ecb-4efe-8680-10b20f8678f9",
   "metadata": {},
   "outputs": [
    {
     "data": {
      "text/plain": [
       "{'number': [2, 34, 3, 34, 34],\n",
       " 'assignmrnt': (1, 2, 3, 4, 5, 6),\n",
       " 'launch_date': {12, 14, 28},\n",
       " 'mentor': ['sudh', 'krish', 'anurag', 'hayder'],\n",
       " 'book': ('python', 'c-lan')}"
      ]
     },
     "execution_count": 59,
     "metadata": {},
     "output_type": "execute_result"
    }
   ],
   "source": [
    "d6"
   ]
  },
  {
   "cell_type": "code",
   "execution_count": 60,
   "id": "c6466ecf-566a-472e-a758-cd1733f9b8ca",
   "metadata": {},
   "outputs": [],
   "source": [
    "del d6['book']"
   ]
  },
  {
   "cell_type": "code",
   "execution_count": 61,
   "id": "73578335-772f-456e-a97c-a12c246c10af",
   "metadata": {},
   "outputs": [
    {
     "data": {
      "text/plain": [
       "{'number': [2, 34, 3, 34, 34],\n",
       " 'assignmrnt': (1, 2, 3, 4, 5, 6),\n",
       " 'launch_date': {12, 14, 28},\n",
       " 'mentor': ['sudh', 'krish', 'anurag', 'hayder']}"
      ]
     },
     "execution_count": 61,
     "metadata": {},
     "output_type": "execute_result"
    }
   ],
   "source": [
    "d6"
   ]
  },
  {
   "cell_type": "code",
   "execution_count": 62,
   "id": "483c0f6c-ec16-434d-8f9e-794fd3ec7a87",
   "metadata": {},
   "outputs": [
    {
     "data": {
      "text/plain": [
       "dict_keys(['number', 'assignmrnt', 'launch_date', 'mentor'])"
      ]
     },
     "execution_count": 62,
     "metadata": {},
     "output_type": "execute_result"
    }
   ],
   "source": [
    "d6.keys()"
   ]
  },
  {
   "cell_type": "code",
   "execution_count": 64,
   "id": "02ce7acf-2304-4f7b-a3fc-ee995a686de4",
   "metadata": {},
   "outputs": [
    {
     "data": {
      "text/plain": [
       "['number', 'assignmrnt', 'launch_date', 'mentor']"
      ]
     },
     "execution_count": 64,
     "metadata": {},
     "output_type": "execute_result"
    }
   ],
   "source": [
    "list(d6.keys())"
   ]
  },
  {
   "cell_type": "code",
   "execution_count": 65,
   "id": "2fece987-2f49-4a7b-8b2a-eb7a84521d42",
   "metadata": {},
   "outputs": [
    {
     "data": {
      "text/plain": [
       "[[2, 34, 3, 34, 34],\n",
       " (1, 2, 3, 4, 5, 6),\n",
       " {12, 14, 28},\n",
       " ['sudh', 'krish', 'anurag', 'hayder']]"
      ]
     },
     "execution_count": 65,
     "metadata": {},
     "output_type": "execute_result"
    }
   ],
   "source": [
    "list(d6.values())"
   ]
  },
  {
   "cell_type": "code",
   "execution_count": 66,
   "id": "9d03a6de-c60c-40a5-ae59-98cbb01bed11",
   "metadata": {},
   "outputs": [
    {
     "data": {
      "text/plain": [
       "dict_items([('number', [2, 34, 3, 34, 34]), ('assignmrnt', (1, 2, 3, 4, 5, 6)), ('launch_date', {28, 12, 14}), ('mentor', ['sudh', 'krish', 'anurag', 'hayder'])])"
      ]
     },
     "execution_count": 66,
     "metadata": {},
     "output_type": "execute_result"
    }
   ],
   "source": [
    "d6.items()"
   ]
  },
  {
   "cell_type": "code",
   "execution_count": 67,
   "id": "380c88cb-1927-4478-9b5b-e8614d29e822",
   "metadata": {},
   "outputs": [
    {
     "data": {
      "text/plain": [
       "[('number', [2, 34, 3, 34, 34]),\n",
       " ('assignmrnt', (1, 2, 3, 4, 5, 6)),\n",
       " ('launch_date', {12, 14, 28}),\n",
       " ('mentor', ['sudh', 'krish', 'anurag', 'hayder'])]"
      ]
     },
     "execution_count": 67,
     "metadata": {},
     "output_type": "execute_result"
    }
   ],
   "source": [
    "list(d6.items())"
   ]
  },
  {
   "cell_type": "code",
   "execution_count": 68,
   "id": "b295a4d7-c762-438c-94c1-31d6874ca1eb",
   "metadata": {},
   "outputs": [],
   "source": [
    "d6['family'] = ['ram','ramhit','barafi','rajitram','kewala']"
   ]
  },
  {
   "cell_type": "code",
   "execution_count": 69,
   "id": "517ef1f2-b867-4c88-85f5-67b5f57da1a9",
   "metadata": {},
   "outputs": [
    {
     "data": {
      "text/plain": [
       "{'number': [2, 34, 3, 34, 34],\n",
       " 'assignmrnt': (1, 2, 3, 4, 5, 6),\n",
       " 'launch_date': {12, 14, 28},\n",
       " 'mentor': ['sudh', 'krish', 'anurag', 'hayder'],\n",
       " 'family': ['ram', 'ramhit', 'barafi', 'rajitram', 'kewala']}"
      ]
     },
     "execution_count": 69,
     "metadata": {},
     "output_type": "execute_result"
    }
   ],
   "source": [
    "d6"
   ]
  },
  {
   "cell_type": "code",
   "execution_count": 70,
   "id": "777b08e0-a6ea-4820-b4a9-195b31093177",
   "metadata": {},
   "outputs": [
    {
     "data": {
      "text/plain": [
       "['ram', 'ramhit', 'barafi', 'rajitram', 'kewala']"
      ]
     },
     "execution_count": 70,
     "metadata": {},
     "output_type": "execute_result"
    }
   ],
   "source": [
    "d6.pop('family')"
   ]
  },
  {
   "cell_type": "code",
   "execution_count": 71,
   "id": "9e7daab8-f740-4e8f-8576-ed6df9aac4a0",
   "metadata": {},
   "outputs": [
    {
     "data": {
      "text/plain": [
       "{'number': [2, 34, 3, 34, 34],\n",
       " 'assignmrnt': (1, 2, 3, 4, 5, 6),\n",
       " 'launch_date': {12, 14, 28},\n",
       " 'mentor': ['sudh', 'krish', 'anurag', 'hayder']}"
      ]
     },
     "execution_count": 71,
     "metadata": {},
     "output_type": "execute_result"
    }
   ],
   "source": [
    "d6"
   ]
  },
  {
   "cell_type": "code",
   "execution_count": 72,
   "id": "23d8d073-0eea-44d9-9b45-cd8ee0ffa09d",
   "metadata": {},
   "outputs": [
    {
     "ename": "TypeError",
     "evalue": "pop expected at least 1 argument, got 0",
     "output_type": "error",
     "traceback": [
      "\u001b[0;31m---------------------------------------------------------------------------\u001b[0m",
      "\u001b[0;31mTypeError\u001b[0m                                 Traceback (most recent call last)",
      "Cell \u001b[0;32mIn[72], line 1\u001b[0m\n\u001b[0;32m----> 1\u001b[0m \u001b[43md6\u001b[49m\u001b[38;5;241;43m.\u001b[39;49m\u001b[43mpop\u001b[49m\u001b[43m(\u001b[49m\u001b[43m)\u001b[49m\n",
      "\u001b[0;31mTypeError\u001b[0m: pop expected at least 1 argument, got 0"
     ]
    }
   ],
   "source": [
    "d6.pop()"
   ]
  },
  {
   "cell_type": "code",
   "execution_count": 73,
   "id": "f6ed719f-fe51-4206-8911-f65d2b311b83",
   "metadata": {},
   "outputs": [
    {
     "data": {
      "text/plain": [
       "['sudh', 'krish', 'anurag', 'hayder']"
      ]
     },
     "execution_count": 73,
     "metadata": {},
     "output_type": "execute_result"
    }
   ],
   "source": [
    "d6.pop('mentor')"
   ]
  },
  {
   "cell_type": "code",
   "execution_count": 74,
   "id": "623762f8-4191-495a-a7dc-16e1e59150e7",
   "metadata": {},
   "outputs": [
    {
     "data": {
      "text/plain": [
       "{'number': [2, 34, 3, 34, 34],\n",
       " 'assignmrnt': (1, 2, 3, 4, 5, 6),\n",
       " 'launch_date': {12, 14, 28}}"
      ]
     },
     "execution_count": 74,
     "metadata": {},
     "output_type": "execute_result"
    }
   ],
   "source": [
    "d6"
   ]
  },
  {
   "cell_type": "code",
   "execution_count": 75,
   "id": "2c4a3a25-578b-47f9-a883-825661e3e459",
   "metadata": {},
   "outputs": [],
   "source": [
    "d6['ram1'] = (\"data science\")"
   ]
  },
  {
   "cell_type": "code",
   "execution_count": 76,
   "id": "c45a88e9-f675-4384-b451-b2cc27f02d8d",
   "metadata": {},
   "outputs": [
    {
     "data": {
      "text/plain": [
       "{'number': [2, 34, 3, 34, 34],\n",
       " 'assignmrnt': (1, 2, 3, 4, 5, 6),\n",
       " 'launch_date': {12, 14, 28},\n",
       " 'ram1': 'data science'}"
      ]
     },
     "execution_count": 76,
     "metadata": {},
     "output_type": "execute_result"
    }
   ],
   "source": [
    "d6"
   ]
  },
  {
   "cell_type": "code",
   "execution_count": 81,
   "id": "be8e4eb9-da21-486b-8770-3e207b70cde4",
   "metadata": {},
   "outputs": [
    {
     "name": "stdin",
     "output_type": "stream",
     "text": [
      "Enter your marks 95\n"
     ]
    },
    {
     "name": "stdout",
     "output_type": "stream",
     "text": [
      "You will be a part of A0 batch\n"
     ]
    }
   ],
   "source": [
    "marks =int(input(\"Enter your marks\"))\n",
    "if marks >= 80:\n",
    "    \n",
    "    print(\"You will be a part of A0 batch\")\n",
    "elif marks >= 60 and marks <80:\n",
    "    print(\"you will be a part of A1 batch\")\n",
    "elif marks >=40 and marks < 60:\n",
    "    print(\"You will be a part of A2 batch\")\n",
    "else:\n",
    "    print(\"you will be a aprt of A3 batch\")"
   ]
  },
  {
   "cell_type": "code",
   "execution_count": 82,
   "id": "8af6255c-89a1-4bdc-b97d-05b7a812d24e",
   "metadata": {},
   "outputs": [
    {
     "data": {
      "text/plain": [
       "95"
      ]
     },
     "execution_count": 82,
     "metadata": {},
     "output_type": "execute_result"
    }
   ],
   "source": [
    "marks"
   ]
  },
  {
   "cell_type": "code",
   "execution_count": 83,
   "id": "33d9a726-d6a1-40a9-8de6-fb2067a2d1ea",
   "metadata": {},
   "outputs": [
    {
     "data": {
      "text/plain": [
       "int"
      ]
     },
     "execution_count": 83,
     "metadata": {},
     "output_type": "execute_result"
    }
   ],
   "source": [
    "type(marks)"
   ]
  },
  {
   "cell_type": "code",
   "execution_count": 85,
   "id": "89c71d1a-2de3-4488-aa5b-ef8fc4821f53",
   "metadata": {},
   "outputs": [
    {
     "name": "stdin",
     "output_type": "stream",
     "text": [
      "Enter price 200\n"
     ]
    },
    {
     "name": "stdout",
     "output_type": "stream",
     "text": [
      "I will purchase\n"
     ]
    }
   ],
   "source": [
    "price = int(input(\"Enter price\"))\n",
    "if price > 1000:\n",
    "    print(\"I will not purchase\")\n",
    "else :\n",
    "    print(\"I will purchase\")"
   ]
  },
  {
   "cell_type": "code",
   "execution_count": 88,
   "id": "430dfe0a-81db-41e1-9998-caad4095f43f",
   "metadata": {},
   "outputs": [
    {
     "name": "stdin",
     "output_type": "stream",
     "text": [
      "Enter price 1200\n"
     ]
    },
    {
     "name": "stdout",
     "output_type": "stream",
     "text": [
      "I will not purchase\n",
      "its okay\n"
     ]
    }
   ],
   "source": [
    "price = int(input(\"Enter price\"))\n",
    "if price > 1000:\n",
    "    print(\"I will not purchase\")\n",
    "    if price > 5000 :\n",
    "        print(\"this is to much\")\n",
    "    elif price < 2000 :\n",
    "        print(\"its okay\")\n",
    "elif price < 1000:\n",
    "    print(\"I will purchase\")\n",
    "    \n",
    "else :\n",
    "    print(\"not interested\")\n",
    "    \n",
    "    "
   ]
  },
  {
   "cell_type": "code",
   "execution_count": 89,
   "id": "ab39c949-0ec1-4ace-b38c-cb201a11f65a",
   "metadata": {},
   "outputs": [],
   "source": [
    "l = [1,2,3,4,5,6,7,8,9]"
   ]
  },
  {
   "cell_type": "code",
   "execution_count": 93,
   "id": "37be991e-0d3b-4c17-aa3a-90b2bd065f94",
   "metadata": {},
   "outputs": [
    {
     "data": {
      "text/plain": [
       "2"
      ]
     },
     "execution_count": 93,
     "metadata": {},
     "output_type": "execute_result"
    }
   ],
   "source": [
    "l[0] +1"
   ]
  },
  {
   "cell_type": "code",
   "execution_count": 95,
   "id": "df20d7d4-e542-4fb0-b821-29afe4a28ac1",
   "metadata": {},
   "outputs": [],
   "source": [
    "l1 = []"
   ]
  },
  {
   "cell_type": "code",
   "execution_count": 96,
   "id": "50d76b44-c251-4cdf-b6c4-cc1a2b471ca0",
   "metadata": {},
   "outputs": [],
   "source": [
    "l.append(l[0] +1)"
   ]
  },
  {
   "cell_type": "code",
   "execution_count": 97,
   "id": "4ac92741-5c2d-4fda-bf9f-c7d38c25bcf5",
   "metadata": {},
   "outputs": [
    {
     "data": {
      "text/plain": [
       "[]"
      ]
     },
     "execution_count": 97,
     "metadata": {},
     "output_type": "execute_result"
    }
   ],
   "source": [
    "l1"
   ]
  },
  {
   "cell_type": "code",
   "execution_count": 98,
   "id": "399c01d0-a34d-4d8d-91ea-e17006d074ae",
   "metadata": {},
   "outputs": [
    {
     "name": "stdout",
     "output_type": "stream",
     "text": [
      "1\n",
      "2\n",
      "3\n",
      "4\n",
      "5\n",
      "6\n",
      "7\n",
      "8\n",
      "9\n",
      "2\n",
      "2\n"
     ]
    }
   ],
   "source": [
    "for i in l :\n",
    "    print(i)"
   ]
  },
  {
   "cell_type": "code",
   "execution_count": 100,
   "id": "71afc3f6-e45d-4fce-ae86-ab0b59587142",
   "metadata": {},
   "outputs": [
    {
     "name": "stdout",
     "output_type": "stream",
     "text": [
      "1\n",
      "2\n",
      "3\n",
      "4\n",
      "5\n",
      "6\n",
      "7\n",
      "8\n",
      "9\n",
      "2\n",
      "2\n"
     ]
    }
   ],
   "source": [
    "for ram in l :\n",
    "    print(ram)"
   ]
  },
  {
   "cell_type": "code",
   "execution_count": 101,
   "id": "791be009-2096-4507-8894-db46381abc77",
   "metadata": {},
   "outputs": [
    {
     "name": "stdout",
     "output_type": "stream",
     "text": [
      "1\n",
      "2\n",
      "3\n",
      "4\n",
      "5\n",
      "6\n",
      "7\n",
      "8\n",
      "9\n",
      "2\n",
      "2\n"
     ]
    }
   ],
   "source": [
    "for ram1 in l :\n",
    "    print(ram1)"
   ]
  },
  {
   "cell_type": "code",
   "execution_count": 102,
   "id": "9d366639-9bf4-4767-bfae-4ce471c70bfd",
   "metadata": {},
   "outputs": [
    {
     "data": {
      "text/plain": [
       "[1, 2, 3, 4, 5, 6, 7, 8, 9, 2, 2]"
      ]
     },
     "execution_count": 102,
     "metadata": {},
     "output_type": "execute_result"
    }
   ],
   "source": [
    "l"
   ]
  },
  {
   "cell_type": "code",
   "execution_count": 103,
   "id": "91709bf8-3b0f-483b-bb1f-32d5184b8868",
   "metadata": {},
   "outputs": [
    {
     "data": {
      "text/plain": [
       "3"
      ]
     },
     "execution_count": 103,
     "metadata": {},
     "output_type": "execute_result"
    }
   ],
   "source": [
    "l.pop(2)"
   ]
  },
  {
   "cell_type": "code",
   "execution_count": 106,
   "id": "15f88fdc-004e-40b8-aeac-84d182a62dea",
   "metadata": {},
   "outputs": [
    {
     "data": {
      "text/plain": [
       "[1, 2, 4, 5, 6, 7, 8, 9, 2, 2]"
      ]
     },
     "execution_count": 106,
     "metadata": {},
     "output_type": "execute_result"
    }
   ],
   "source": [
    "l"
   ]
  },
  {
   "cell_type": "code",
   "execution_count": 107,
   "id": "896de48e-6ec3-411c-91d4-4479d2d7609d",
   "metadata": {},
   "outputs": [
    {
     "name": "stdout",
     "output_type": "stream",
     "text": [
      "2\n",
      "3\n",
      "5\n",
      "6\n",
      "7\n",
      "8\n",
      "9\n",
      "10\n",
      "3\n",
      "3\n"
     ]
    }
   ],
   "source": [
    "for i in l :\n",
    "    print(i+1)"
   ]
  },
  {
   "cell_type": "code",
   "execution_count": 111,
   "id": "3d8025f2-d832-4a7d-8aa2-af8b48937d9d",
   "metadata": {},
   "outputs": [
    {
     "name": "stdout",
     "output_type": "stream",
     "text": [
      "2\n",
      "4\n",
      "8\n",
      "10\n",
      "12\n",
      "14\n",
      "16\n",
      "18\n",
      "4\n",
      "4\n"
     ]
    },
    {
     "data": {
      "text/plain": [
       "[2, 3, 5, 6, 7, 8, 9, 10, 3, 3]"
      ]
     },
     "execution_count": 111,
     "metadata": {},
     "output_type": "execute_result"
    }
   ],
   "source": [
    "l1 = []\n",
    "for i in l:\n",
    "    print(i*2)\n",
    "    l1.append(i+1)\n",
    "l1"
   ]
  },
  {
   "cell_type": "code",
   "execution_count": 112,
   "id": "e98e1b2f-fb9d-4c76-b8f6-beef07fced14",
   "metadata": {},
   "outputs": [],
   "source": [
    "l = [\"Ram\", \"Yadav\", \"Data-Science\", \"Course\"]"
   ]
  },
  {
   "cell_type": "code",
   "execution_count": 113,
   "id": "dda0d748-7f15-4527-af87-b1c436734264",
   "metadata": {},
   "outputs": [
    {
     "name": "stdout",
     "output_type": "stream",
     "text": [
      "Ram\n",
      "Yadav\n",
      "Data-Science\n",
      "Course\n"
     ]
    }
   ],
   "source": [
    "for i in l :\n",
    "    print(i)"
   ]
  },
  {
   "cell_type": "code",
   "execution_count": 114,
   "id": "83c9d53a-295d-4bd1-947f-0f1efbabbc82",
   "metadata": {},
   "outputs": [
    {
     "name": "stdout",
     "output_type": "stream",
     "text": [
      "Ram\n",
      "Yadav\n",
      "Data-Science\n",
      "Course\n"
     ]
    }
   ],
   "source": [
    "l1 = []\n",
    "for i in l :\n",
    "    print(i)\n",
    "    l1.append(i.upper())"
   ]
  },
  {
   "cell_type": "code",
   "execution_count": 115,
   "id": "585e72ad-94e7-424f-98fa-e4b42542ca77",
   "metadata": {},
   "outputs": [
    {
     "data": {
      "text/plain": [
       "['RAM', 'YADAV', 'DATA-SCIENCE', 'COURSE']"
      ]
     },
     "execution_count": 115,
     "metadata": {},
     "output_type": "execute_result"
    }
   ],
   "source": [
    "l1"
   ]
  },
  {
   "cell_type": "code",
   "execution_count": 116,
   "id": "d6f664cc-74e2-431e-ad69-3a427942acdc",
   "metadata": {},
   "outputs": [],
   "source": [
    "l = [1,2,3,4,4, \"Ram\", \"Yadav\", 324,65, \"abc\"]"
   ]
  },
  {
   "cell_type": "code",
   "execution_count": 117,
   "id": "d146822a-1fc0-4908-85ff-d246704491e0",
   "metadata": {},
   "outputs": [],
   "source": [
    "l1_num = []\n",
    "l2_str = []\n",
    "for i in l :\n",
    "    if type(i) == int or type(i) == float :\n",
    "        l1_num.append(i)\n",
    "    else:\n",
    "        l2_str.append(i)\n",
    "    "
   ]
  },
  {
   "cell_type": "code",
   "execution_count": 118,
   "id": "db121514-186c-4dab-a3ba-7f5ed2d69484",
   "metadata": {},
   "outputs": [
    {
     "data": {
      "text/plain": [
       "[1, 2, 3, 4, 4, 324, 65]"
      ]
     },
     "execution_count": 118,
     "metadata": {},
     "output_type": "execute_result"
    }
   ],
   "source": [
    "l1_num"
   ]
  },
  {
   "cell_type": "code",
   "execution_count": 119,
   "id": "81fe538f-7fea-46b2-8c43-2b1037b9caf0",
   "metadata": {},
   "outputs": [
    {
     "data": {
      "text/plain": [
       "['Ram', 'Yadav', 'abc']"
      ]
     },
     "execution_count": 119,
     "metadata": {},
     "output_type": "execute_result"
    }
   ],
   "source": [
    "l2_str"
   ]
  },
  {
   "cell_type": "code",
   "execution_count": null,
   "id": "efdc4f5d-17e0-4e98-8bc0-4aacded62356",
   "metadata": {},
   "outputs": [],
   "source": []
  }
 ],
 "metadata": {
  "kernelspec": {
   "display_name": "Python 3 (ipykernel)",
   "language": "python",
   "name": "python3"
  },
  "language_info": {
   "codemirror_mode": {
    "name": "ipython",
    "version": 3
   },
   "file_extension": ".py",
   "mimetype": "text/x-python",
   "name": "python",
   "nbconvert_exporter": "python",
   "pygments_lexer": "ipython3",
   "version": "3.10.8"
  }
 },
 "nbformat": 4,
 "nbformat_minor": 5
}
