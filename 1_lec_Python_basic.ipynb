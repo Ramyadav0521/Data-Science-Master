{
 "cells": [
  {
   "cell_type": "code",
   "execution_count": 1,
   "id": "b9230c19-218a-499a-bf8b-40a2c7db1f7d",
   "metadata": {},
   "outputs": [],
   "source": [
    "x = 45 #x is variable and 45 int values "
   ]
  },
  {
   "cell_type": "code",
   "execution_count": 2,
   "id": "5aa679e1-798a-416c-a839-b61551dd4e33",
   "metadata": {},
   "outputs": [
    {
     "data": {
      "text/plain": [
       "45"
      ]
     },
     "execution_count": 2,
     "metadata": {},
     "output_type": "execute_result"
    }
   ],
   "source": [
    "x"
   ]
  },
  {
   "cell_type": "code",
   "execution_count": 3,
   "id": "4a8c4c1a-54a6-4b7f-b24e-01fc96a862a5",
   "metadata": {},
   "outputs": [
    {
     "data": {
      "text/plain": [
       "int"
      ]
     },
     "execution_count": 3,
     "metadata": {},
     "output_type": "execute_result"
    }
   ],
   "source": [
    "type(x)"
   ]
  },
  {
   "cell_type": "code",
   "execution_count": 4,
   "id": "761fb255-9e4a-441c-ab43-df88b50f5bf4",
   "metadata": {},
   "outputs": [],
   "source": [
    "y = 56.6 # y is variable and 56.6 float values"
   ]
  },
  {
   "cell_type": "code",
   "execution_count": 5,
   "id": "cbae62b8-7177-4d7e-92d2-7920c715fd1b",
   "metadata": {},
   "outputs": [
    {
     "data": {
      "text/plain": [
       "56.6"
      ]
     },
     "execution_count": 5,
     "metadata": {},
     "output_type": "execute_result"
    }
   ],
   "source": [
    "y "
   ]
  },
  {
   "cell_type": "code",
   "execution_count": 6,
   "id": "b3b2365a-58e8-46a8-9de9-a36863a36ed4",
   "metadata": {},
   "outputs": [
    {
     "data": {
      "text/plain": [
       "float"
      ]
     },
     "execution_count": 6,
     "metadata": {},
     "output_type": "execute_result"
    }
   ],
   "source": [
    "type(y)"
   ]
  },
  {
   "cell_type": "code",
   "execution_count": 7,
   "id": "f54e8f07-5e83-4b25-b4b1-6854cfc4efd9",
   "metadata": {},
   "outputs": [],
   "source": [
    "c = 'Ram yadav' # c is variable and 'Ram yadav' str vlaues"
   ]
  },
  {
   "cell_type": "code",
   "execution_count": 8,
   "id": "dfd10dcc-6e12-4e27-8147-da388fa4a641",
   "metadata": {},
   "outputs": [
    {
     "data": {
      "text/plain": [
       "'Ram yadav'"
      ]
     },
     "execution_count": 8,
     "metadata": {},
     "output_type": "execute_result"
    }
   ],
   "source": [
    "c"
   ]
  },
  {
   "cell_type": "code",
   "execution_count": 9,
   "id": "57185d8b-7f8a-40cc-8916-7f6e4183217e",
   "metadata": {},
   "outputs": [
    {
     "data": {
      "text/plain": [
       "101.6"
      ]
     },
     "execution_count": 9,
     "metadata": {},
     "output_type": "execute_result"
    }
   ],
   "source": [
    "x + y"
   ]
  },
  {
   "cell_type": "code",
   "execution_count": 10,
   "id": "af2ce517-3901-4108-987d-d0bc8c2ca49c",
   "metadata": {},
   "outputs": [],
   "source": [
    "e = \"This is my first tech class\""
   ]
  },
  {
   "cell_type": "code",
   "execution_count": 11,
   "id": "4188a7b6-5271-4601-8954-d1b4a7e723e3",
   "metadata": {},
   "outputs": [
    {
     "data": {
      "text/plain": [
       "'This is my first tech class'"
      ]
     },
     "execution_count": 11,
     "metadata": {},
     "output_type": "execute_result"
    }
   ],
   "source": [
    "e"
   ]
  },
  {
   "cell_type": "code",
   "execution_count": 12,
   "id": "011923a2-71e5-4d07-9c6a-17e8377f8cb7",
   "metadata": {},
   "outputs": [
    {
     "data": {
      "text/plain": [
       "str"
      ]
     },
     "execution_count": 12,
     "metadata": {},
     "output_type": "execute_result"
    }
   ],
   "source": [
    "type(e)"
   ]
  },
  {
   "cell_type": "code",
   "execution_count": 13,
   "id": "a719fcdc-29a9-4a71-bea7-f69a86c2da6e",
   "metadata": {},
   "outputs": [],
   "source": [
    "a = True #  a is variable and True is a boolean data type"
   ]
  },
  {
   "cell_type": "code",
   "execution_count": 14,
   "id": "bbad07c1-e7cf-4707-9af9-0cee1d75ce2f",
   "metadata": {},
   "outputs": [
    {
     "data": {
      "text/plain": [
       "True"
      ]
     },
     "execution_count": 14,
     "metadata": {},
     "output_type": "execute_result"
    }
   ],
   "source": [
    "a "
   ]
  },
  {
   "cell_type": "code",
   "execution_count": 15,
   "id": "9fa380e5-888b-4a69-b86d-8fb96e132236",
   "metadata": {},
   "outputs": [
    {
     "data": {
      "text/plain": [
       "bool"
      ]
     },
     "execution_count": 15,
     "metadata": {},
     "output_type": "execute_result"
    }
   ],
   "source": [
    "type(a) "
   ]
  },
  {
   "cell_type": "code",
   "execution_count": 16,
   "id": "20317240-9fc6-402a-9176-e62278ed8545",
   "metadata": {},
   "outputs": [],
   "source": [
    "a = True"
   ]
  },
  {
   "cell_type": "code",
   "execution_count": 17,
   "id": "6bc8b6e5-9af5-4e76-bee9-f6fa62ad99bf",
   "metadata": {},
   "outputs": [],
   "source": [
    "b = False"
   ]
  },
  {
   "cell_type": "code",
   "execution_count": 18,
   "id": "98272963-3978-4328-910b-8520d9aed2ec",
   "metadata": {},
   "outputs": [
    {
     "data": {
      "text/plain": [
       "1"
      ]
     },
     "execution_count": 18,
     "metadata": {},
     "output_type": "execute_result"
    }
   ],
   "source": [
    "a+b"
   ]
  },
  {
   "cell_type": "code",
   "execution_count": 19,
   "id": "5122a42c-8b19-4a16-885e-34a22fd6e1f9",
   "metadata": {},
   "outputs": [
    {
     "data": {
      "text/plain": [
       "0"
      ]
     },
     "execution_count": 19,
     "metadata": {},
     "output_type": "execute_result"
    }
   ],
   "source": [
    "a*b"
   ]
  },
  {
   "cell_type": "code",
   "execution_count": 20,
   "id": "61c740da-19c9-4736-93be-e72474142013",
   "metadata": {},
   "outputs": [
    {
     "data": {
      "text/plain": [
       "1"
      ]
     },
     "execution_count": 20,
     "metadata": {},
     "output_type": "execute_result"
    }
   ],
   "source": [
    "True * True"
   ]
  },
  {
   "cell_type": "code",
   "execution_count": 21,
   "id": "518d5a32-597e-43fd-9790-540081e3c3f3",
   "metadata": {},
   "outputs": [
    {
     "data": {
      "text/plain": [
       "0"
      ]
     },
     "execution_count": 21,
     "metadata": {},
     "output_type": "execute_result"
    }
   ],
   "source": [
    "True * False"
   ]
  },
  {
   "cell_type": "code",
   "execution_count": 22,
   "id": "3f38cc61-6763-4033-91d2-2515f176fa4a",
   "metadata": {},
   "outputs": [
    {
     "ename": "ZeroDivisionError",
     "evalue": "division by zero",
     "output_type": "error",
     "traceback": [
      "\u001b[0;31m---------------------------------------------------------------------------\u001b[0m",
      "\u001b[0;31mZeroDivisionError\u001b[0m                         Traceback (most recent call last)",
      "Cell \u001b[0;32mIn[22], line 1\u001b[0m\n\u001b[0;32m----> 1\u001b[0m \u001b[38;5;28;43;01mTrue\u001b[39;49;00m\u001b[43m \u001b[49m\u001b[38;5;241;43m/\u001b[39;49m\u001b[43m \u001b[49m\u001b[38;5;28;43;01mFalse\u001b[39;49;00m\n",
      "\u001b[0;31mZeroDivisionError\u001b[0m: division by zero"
     ]
    }
   ],
   "source": [
    "True / False"
   ]
  },
  {
   "cell_type": "code",
   "execution_count": 23,
   "id": "482a49df-00a0-4ef6-a89d-633832fc7b54",
   "metadata": {},
   "outputs": [],
   "source": [
    "f = 4 + 4j # f is variable and 4+4j is complex data type"
   ]
  },
  {
   "cell_type": "code",
   "execution_count": 24,
   "id": "505a544c-dd66-444f-bb81-df0c61a61057",
   "metadata": {},
   "outputs": [
    {
     "data": {
      "text/plain": [
       "(4+4j)"
      ]
     },
     "execution_count": 24,
     "metadata": {},
     "output_type": "execute_result"
    }
   ],
   "source": [
    "f"
   ]
  },
  {
   "cell_type": "code",
   "execution_count": 25,
   "id": "b4bf81f4-92ba-440c-bc8b-d30b6b64b428",
   "metadata": {},
   "outputs": [
    {
     "data": {
      "text/plain": [
       "complex"
      ]
     },
     "execution_count": 25,
     "metadata": {},
     "output_type": "execute_result"
    }
   ],
   "source": [
    "type(f)"
   ]
  },
  {
   "cell_type": "code",
   "execution_count": 26,
   "id": "530aa1d7-6ab7-4cea-81e9-ae69154ad8a9",
   "metadata": {},
   "outputs": [],
   "source": [
    "g = 5+ 5J"
   ]
  },
  {
   "cell_type": "code",
   "execution_count": 27,
   "id": "bb2330a3-8503-44c9-9606-3307c508f09e",
   "metadata": {},
   "outputs": [
    {
     "data": {
      "text/plain": [
       "complex"
      ]
     },
     "execution_count": 27,
     "metadata": {},
     "output_type": "execute_result"
    }
   ],
   "source": [
    "type(g)"
   ]
  },
  {
   "cell_type": "code",
   "execution_count": 28,
   "id": "9d195026-43ef-425d-80c4-b55270f52bf7",
   "metadata": {},
   "outputs": [
    {
     "data": {
      "text/plain": [
       "5.0"
      ]
     },
     "execution_count": 28,
     "metadata": {},
     "output_type": "execute_result"
    }
   ],
   "source": [
    "g.real"
   ]
  },
  {
   "cell_type": "code",
   "execution_count": 29,
   "id": "f442fda1-1140-4779-85f9-1696926698d1",
   "metadata": {},
   "outputs": [],
   "source": [
    "g = 5 +67j"
   ]
  },
  {
   "cell_type": "code",
   "execution_count": 30,
   "id": "87e7a8a4-46ff-47c6-a821-fffba57de667",
   "metadata": {},
   "outputs": [
    {
     "data": {
      "text/plain": [
       "(5+67j)"
      ]
     },
     "execution_count": 30,
     "metadata": {},
     "output_type": "execute_result"
    }
   ],
   "source": [
    "g"
   ]
  },
  {
   "cell_type": "code",
   "execution_count": 31,
   "id": "854c3b43-18dc-4ce8-b418-bde684a84a12",
   "metadata": {},
   "outputs": [
    {
     "data": {
      "text/plain": [
       "67.0"
      ]
     },
     "execution_count": 31,
     "metadata": {},
     "output_type": "execute_result"
    }
   ],
   "source": [
    "g.imag"
   ]
  },
  {
   "cell_type": "code",
   "execution_count": 32,
   "id": "6f581d49-49f2-4437-9f03-3fb042d4548f",
   "metadata": {},
   "outputs": [
    {
     "data": {
      "text/plain": [
       "(5+67j)"
      ]
     },
     "execution_count": 32,
     "metadata": {},
     "output_type": "execute_result"
    }
   ],
   "source": [
    "g"
   ]
  },
  {
   "cell_type": "code",
   "execution_count": 33,
   "id": "38674383-5627-4507-af60-32579267557e",
   "metadata": {},
   "outputs": [
    {
     "name": "stdout",
     "output_type": "stream",
     "text": [
      "(5+67j)\n"
     ]
    }
   ],
   "source": [
    "print(g)"
   ]
  },
  {
   "cell_type": "code",
   "execution_count": null,
   "id": "84597e4a-0e6d-4a9d-b448-9f3b4d70b807",
   "metadata": {},
   "outputs": [],
   "source": []
  },
  {
   "cell_type": "code",
   "execution_count": 35,
   "id": "28acec78-5910-4c08-b4d2-cf39c4caa2e1",
   "metadata": {},
   "outputs": [
    {
     "name": "stdout",
     "output_type": "stream",
     "text": [
      "My name is Ram Yadav\n"
     ]
    }
   ],
   "source": [
    "print(\"My name is Ram Yadav\")"
   ]
  },
  {
   "cell_type": "code",
   "execution_count": 36,
   "id": "deac6158-2cd3-4b93-b699-9469c4a10b24",
   "metadata": {},
   "outputs": [],
   "source": [
    "s = 'Pwskill'"
   ]
  },
  {
   "cell_type": "code",
   "execution_count": 37,
   "id": "b3b92607-f9f7-4c0f-acec-f083accaf25b",
   "metadata": {},
   "outputs": [
    {
     "data": {
      "text/plain": [
       "'Pwskill'"
      ]
     },
     "execution_count": 37,
     "metadata": {},
     "output_type": "execute_result"
    }
   ],
   "source": [
    "s "
   ]
  },
  {
   "cell_type": "code",
   "execution_count": 38,
   "id": "1a893153-591b-4a31-9875-c5f1e2de8c4b",
   "metadata": {},
   "outputs": [
    {
     "data": {
      "text/plain": [
       "str"
      ]
     },
     "execution_count": 38,
     "metadata": {},
     "output_type": "execute_result"
    }
   ],
   "source": [
    "type(s)"
   ]
  },
  {
   "cell_type": "code",
   "execution_count": 39,
   "id": "831372aa-19b6-43c8-b93e-2c27f8a17a81",
   "metadata": {},
   "outputs": [
    {
     "data": {
      "text/plain": [
       "'P'"
      ]
     },
     "execution_count": 39,
     "metadata": {},
     "output_type": "execute_result"
    }
   ],
   "source": [
    "s[0] #koi data ko find karna  hai to use karege [indexcing karne ke liye (forword indecing start from 0....ext)]"
   ]
  },
  {
   "cell_type": "code",
   "execution_count": 40,
   "id": "62b2b398-97df-4005-9f62-8d5b0150afcb",
   "metadata": {},
   "outputs": [],
   "source": [
    "ram = 'Yadav'"
   ]
  },
  {
   "cell_type": "code",
   "execution_count": 41,
   "id": "542b6fd5-2cf6-451b-840d-80bb941cf0bf",
   "metadata": {},
   "outputs": [
    {
     "data": {
      "text/plain": [
       "'d'"
      ]
     },
     "execution_count": 41,
     "metadata": {},
     "output_type": "execute_result"
    }
   ],
   "source": [
    "ram[2]"
   ]
  },
  {
   "cell_type": "code",
   "execution_count": 42,
   "id": "53fc4b26-2577-4d7c-baf3-b5f56ca01967",
   "metadata": {},
   "outputs": [
    {
     "data": {
      "text/plain": [
       "'v'"
      ]
     },
     "execution_count": 42,
     "metadata": {},
     "output_type": "execute_result"
    }
   ],
   "source": [
    "ram[4]"
   ]
  },
  {
   "cell_type": "code",
   "execution_count": 43,
   "id": "0d908503-41d7-481d-b518-821da33a534d",
   "metadata": {},
   "outputs": [],
   "source": [
    "b = 'Aaryan' # backword direction in start from -1"
   ]
  },
  {
   "cell_type": "code",
   "execution_count": 44,
   "id": "3562f64d-6a10-4237-bb9e-8d4fa9c960e9",
   "metadata": {},
   "outputs": [
    {
     "data": {
      "text/plain": [
       "'nayraA'"
      ]
     },
     "execution_count": 44,
     "metadata": {},
     "output_type": "execute_result"
    }
   ],
   "source": [
    "b[:: -1]"
   ]
  },
  {
   "cell_type": "code",
   "execution_count": 45,
   "id": "03fbbaed-6265-4ca9-bc10-c1ec1c2e9ff6",
   "metadata": {},
   "outputs": [
    {
     "data": {
      "text/plain": [
       "'n'"
      ]
     },
     "execution_count": 45,
     "metadata": {},
     "output_type": "execute_result"
    }
   ],
   "source": [
    "b [-1]"
   ]
  },
  {
   "cell_type": "code",
   "execution_count": 46,
   "id": "b21a1cd9-a58d-4a17-9de3-0d5216378406",
   "metadata": {},
   "outputs": [
    {
     "data": {
      "text/plain": [
       "'y'"
      ]
     },
     "execution_count": 46,
     "metadata": {},
     "output_type": "execute_result"
    }
   ],
   "source": [
    "b[-3]"
   ]
  },
  {
   "cell_type": "code",
   "execution_count": 47,
   "id": "ca10ca0f-615f-46ef-82e8-e2e8a22ff501",
   "metadata": {},
   "outputs": [
    {
     "data": {
      "text/plain": [
       "'A'"
      ]
     },
     "execution_count": 47,
     "metadata": {},
     "output_type": "execute_result"
    }
   ],
   "source": [
    "b[-6]"
   ]
  },
  {
   "cell_type": "code",
   "execution_count": 48,
   "id": "23f395ac-fb18-4596-b5f6-af5adab5af40",
   "metadata": {},
   "outputs": [],
   "source": [
    "b = 'RamYadav'"
   ]
  },
  {
   "cell_type": "code",
   "execution_count": 49,
   "id": "f09bd0e4-5799-4f16-90b6-56d298d83616",
   "metadata": {},
   "outputs": [
    {
     "data": {
      "text/plain": [
       "'Ra'"
      ]
     },
     "execution_count": 49,
     "metadata": {},
     "output_type": "execute_result"
    }
   ],
   "source": [
    "b[0:2]"
   ]
  },
  {
   "cell_type": "code",
   "execution_count": 50,
   "id": "fa7a0303-0001-4e5d-a2f3-10af9eae01fd",
   "metadata": {},
   "outputs": [
    {
     "data": {
      "text/plain": [
       "'Ram'"
      ]
     },
     "execution_count": 50,
     "metadata": {},
     "output_type": "execute_result"
    }
   ],
   "source": [
    "b[0:3] #slicing string"
   ]
  },
  {
   "cell_type": "code",
   "execution_count": 51,
   "id": "8bad4b9a-931e-48a6-8811-349bddeac7d4",
   "metadata": {},
   "outputs": [
    {
     "data": {
      "text/plain": [
       "'RamYadav'"
      ]
     },
     "execution_count": 51,
     "metadata": {},
     "output_type": "execute_result"
    }
   ],
   "source": [
    "b"
   ]
  },
  {
   "cell_type": "code",
   "execution_count": 52,
   "id": "0821e248-c352-4a2f-99f6-771397da2203",
   "metadata": {},
   "outputs": [
    {
     "data": {
      "text/plain": [
       "'Rmaa'"
      ]
     },
     "execution_count": 52,
     "metadata": {},
     "output_type": "execute_result"
    }
   ],
   "source": [
    "b[0:8:2] #isko bolte hai jump karna"
   ]
  },
  {
   "cell_type": "code",
   "execution_count": 53,
   "id": "f1453587-bd0a-435f-aace-96325ae91082",
   "metadata": {},
   "outputs": [
    {
     "data": {
      "text/plain": [
       "'RamYadav'"
      ]
     },
     "execution_count": 53,
     "metadata": {},
     "output_type": "execute_result"
    }
   ],
   "source": [
    "b[0:8:1]"
   ]
  },
  {
   "cell_type": "code",
   "execution_count": 54,
   "id": "4c5cfcac-4a23-4b20-bb4c-637c4eb15596",
   "metadata": {},
   "outputs": [
    {
     "data": {
      "text/plain": [
       "'RYa'"
      ]
     },
     "execution_count": 54,
     "metadata": {},
     "output_type": "execute_result"
    }
   ],
   "source": [
    "b[0:8:3]"
   ]
  },
  {
   "cell_type": "code",
   "execution_count": 55,
   "id": "fc8457c4-4e8d-4b02-a36c-46e4686c8098",
   "metadata": {},
   "outputs": [
    {
     "data": {
      "text/plain": [
       "'RamYadav'"
      ]
     },
     "execution_count": 55,
     "metadata": {},
     "output_type": "execute_result"
    }
   ],
   "source": [
    "b"
   ]
  },
  {
   "cell_type": "code",
   "execution_count": 56,
   "id": "df8f2cec-e9bb-47df-918d-e9b2eb28c46d",
   "metadata": {},
   "outputs": [
    {
     "data": {
      "text/plain": [
       "'Rmaa'"
      ]
     },
     "execution_count": 56,
     "metadata": {},
     "output_type": "execute_result"
    }
   ],
   "source": [
    "b[::2] #2 ka jump krna "
   ]
  },
  {
   "cell_type": "code",
   "execution_count": 57,
   "id": "d6372a65-d686-4e23-ba90-62b81de872db",
   "metadata": {},
   "outputs": [
    {
     "data": {
      "text/plain": [
       "'maa'"
      ]
     },
     "execution_count": 57,
     "metadata": {},
     "output_type": "execute_result"
    }
   ],
   "source": [
    "b[2::2] #Example:-  Start kro 2 se and jump bhi kro 2 se"
   ]
  },
  {
   "cell_type": "code",
   "execution_count": 58,
   "id": "3877772e-3681-4a7a-83f7-a6bc0d43d8f9",
   "metadata": {},
   "outputs": [
    {
     "ename": "ValueError",
     "evalue": "slice step cannot be zero",
     "output_type": "error",
     "traceback": [
      "\u001b[0;31m---------------------------------------------------------------------------\u001b[0m",
      "\u001b[0;31mValueError\u001b[0m                                Traceback (most recent call last)",
      "Cell \u001b[0;32mIn[58], line 1\u001b[0m\n\u001b[0;32m----> 1\u001b[0m \u001b[43mb\u001b[49m\u001b[43m[\u001b[49m\u001b[38;5;241;43m2\u001b[39;49m\u001b[43m:\u001b[49m\u001b[43m:\u001b[49m\u001b[38;5;241;43m0\u001b[39;49m\u001b[43m]\u001b[49m\n",
      "\u001b[0;31mValueError\u001b[0m: slice step cannot be zero"
     ]
    }
   ],
   "source": [
    "b[2::0] #Example slice not start a zero"
   ]
  },
  {
   "cell_type": "code",
   "execution_count": 59,
   "id": "4fb23d91-8a16-45da-876c-f762351dceef",
   "metadata": {},
   "outputs": [
    {
     "data": {
      "text/plain": [
       "'vadaYmaR'"
      ]
     },
     "execution_count": 59,
     "metadata": {},
     "output_type": "execute_result"
    }
   ],
   "source": [
    "b[::-1] #"
   ]
  },
  {
   "cell_type": "code",
   "execution_count": 60,
   "id": "70ad9b1d-7440-4e1d-be3f-aaa947011763",
   "metadata": {},
   "outputs": [
    {
     "data": {
      "text/plain": [
       "''"
      ]
     },
     "execution_count": 60,
     "metadata": {},
     "output_type": "execute_result"
    }
   ],
   "source": [
    "b[2:7:-1] #Blanck"
   ]
  },
  {
   "cell_type": "code",
   "execution_count": 61,
   "id": "b87651df-1c36-4563-8dec-2d2bcfb59131",
   "metadata": {},
   "outputs": [
    {
     "data": {
      "text/plain": [
       "''"
      ]
     },
     "execution_count": 61,
     "metadata": {},
     "output_type": "execute_result"
    }
   ],
   "source": [
    "s[8:0]"
   ]
  },
  {
   "cell_type": "code",
   "execution_count": 62,
   "id": "f391b561-598b-461a-9de0-b3912c93b16b",
   "metadata": {},
   "outputs": [
    {
     "data": {
      "text/plain": [
       "'vadaYmaR'"
      ]
     },
     "execution_count": 62,
     "metadata": {},
     "output_type": "execute_result"
    }
   ],
   "source": [
    "b[8::-1]"
   ]
  },
  {
   "cell_type": "code",
   "execution_count": 63,
   "id": "5c6f3827-13da-47fc-aab5-106802046ef6",
   "metadata": {},
   "outputs": [
    {
     "data": {
      "text/plain": [
       "'vadaYma'"
      ]
     },
     "execution_count": 63,
     "metadata": {},
     "output_type": "execute_result"
    }
   ],
   "source": [
    "b[8:0:-1]"
   ]
  },
  {
   "cell_type": "code",
   "execution_count": 64,
   "id": "85128787-4c44-4549-8694-e11029a5cff3",
   "metadata": {},
   "outputs": [
    {
     "data": {
      "text/plain": [
       "''"
      ]
     },
     "execution_count": 64,
     "metadata": {},
     "output_type": "execute_result"
    }
   ],
   "source": [
    "b[9:0:1]"
   ]
  },
  {
   "cell_type": "code",
   "execution_count": 65,
   "id": "a8005737-88e9-46c5-8f13-1a7113e98420",
   "metadata": {},
   "outputs": [
    {
     "data": {
      "text/plain": [
       "'vadaYma'"
      ]
     },
     "execution_count": 65,
     "metadata": {},
     "output_type": "execute_result"
    }
   ],
   "source": [
    "b[9:0:-1]"
   ]
  },
  {
   "cell_type": "code",
   "execution_count": 66,
   "id": "d3bc83c5-5fd1-4864-a2d2-462260a09d2a",
   "metadata": {},
   "outputs": [
    {
     "data": {
      "text/plain": [
       "''"
      ]
     },
     "execution_count": 66,
     "metadata": {},
     "output_type": "execute_result"
    }
   ],
   "source": [
    "b [-2:-8: 1]"
   ]
  },
  {
   "cell_type": "code",
   "execution_count": 68,
   "id": "3d393cdc-c7e5-4413-af8f-8b0300052b71",
   "metadata": {},
   "outputs": [
    {
     "data": {
      "text/plain": [
       "'adaYmaR'"
      ]
     },
     "execution_count": 68,
     "metadata": {},
     "output_type": "execute_result"
    }
   ],
   "source": [
    "b[-2::-1]"
   ]
  },
  {
   "cell_type": "code",
   "execution_count": 69,
   "id": "6aa4923e-7d7c-4f94-a50a-e887299147f9",
   "metadata": {},
   "outputs": [
    {
     "data": {
      "text/plain": [
       "'vadaYmaR'"
      ]
     },
     "execution_count": 69,
     "metadata": {},
     "output_type": "execute_result"
    }
   ],
   "source": [
    "b[::-1]"
   ]
  },
  {
   "cell_type": "code",
   "execution_count": 70,
   "id": "79b359e1-8938-4d8b-bd51-da9d8a70f779",
   "metadata": {},
   "outputs": [
    {
     "data": {
      "text/plain": [
       "'RamYadav'"
      ]
     },
     "execution_count": 70,
     "metadata": {},
     "output_type": "execute_result"
    }
   ],
   "source": [
    "b[::1]"
   ]
  },
  {
   "cell_type": "code",
   "execution_count": 71,
   "id": "0ab9c354-9645-4a29-939c-a77ed4a3a8c6",
   "metadata": {},
   "outputs": [
    {
     "data": {
      "text/plain": [
       "''"
      ]
     },
     "execution_count": 71,
     "metadata": {},
     "output_type": "execute_result"
    }
   ],
   "source": [
    "b[:-8:1]"
   ]
  },
  {
   "cell_type": "code",
   "execution_count": 72,
   "id": "5e545be6-bd8f-4c6b-982a-c4b23bba982d",
   "metadata": {},
   "outputs": [
    {
     "data": {
      "text/plain": [
       "'vadaYma'"
      ]
     },
     "execution_count": 72,
     "metadata": {},
     "output_type": "execute_result"
    }
   ],
   "source": [
    "b[:-8:-1]"
   ]
  },
  {
   "cell_type": "code",
   "execution_count": 73,
   "id": "dbf80da6-9470-4d4a-80dc-d644c610d9d6",
   "metadata": {},
   "outputs": [
    {
     "data": {
      "text/plain": [
       "'m'"
      ]
     },
     "execution_count": 73,
     "metadata": {},
     "output_type": "execute_result"
    }
   ],
   "source": [
    "b[2]"
   ]
  },
  {
   "cell_type": "code",
   "execution_count": 74,
   "id": "dc54bc72-d51b-4e12-b974-c5f2bb6eba8f",
   "metadata": {},
   "outputs": [
    {
     "data": {
      "text/plain": [
       "'vadaYmaR'"
      ]
     },
     "execution_count": 74,
     "metadata": {},
     "output_type": "execute_result"
    }
   ],
   "source": [
    "b[:-90:-1]"
   ]
  },
  {
   "cell_type": "code",
   "execution_count": 75,
   "id": "01b887cd-d795-4320-b642-82a177afe799",
   "metadata": {},
   "outputs": [
    {
     "data": {
      "text/plain": [
       "'vadaYmaR'"
      ]
     },
     "execution_count": 75,
     "metadata": {},
     "output_type": "execute_result"
    }
   ],
   "source": [
    "b[90::-1]"
   ]
  },
  {
   "cell_type": "code",
   "execution_count": 78,
   "id": "ab3a69e8-e201-429c-964d-cdff39637f0f",
   "metadata": {},
   "outputs": [],
   "source": [
    "c = '200'"
   ]
  },
  {
   "cell_type": "code",
   "execution_count": 79,
   "id": "06692ac7-2cf0-477e-ae06-83273c0b0356",
   "metadata": {},
   "outputs": [
    {
     "data": {
      "text/plain": [
       "'20'"
      ]
     },
     "execution_count": 79,
     "metadata": {},
     "output_type": "execute_result"
    }
   ],
   "source": [
    "c[0:2]"
   ]
  },
  {
   "cell_type": "code",
   "execution_count": 80,
   "id": "f8d3c084-8133-4381-ad7f-77f6366ac425",
   "metadata": {},
   "outputs": [],
   "source": [
    "c = \"This is my string class\"  #length nikalna hai to use karge(len())function"
   ]
  },
  {
   "cell_type": "code",
   "execution_count": 81,
   "id": "ca6e7387-98e5-49b9-be46-ec07056c4caa",
   "metadata": {},
   "outputs": [
    {
     "data": {
      "text/plain": [
       "'s'"
      ]
     },
     "execution_count": 81,
     "metadata": {},
     "output_type": "execute_result"
    }
   ],
   "source": [
    "c[6]"
   ]
  },
  {
   "cell_type": "code",
   "execution_count": 126,
   "id": "bedf1e43-c11c-4863-8088-725ab7f66f5f",
   "metadata": {},
   "outputs": [
    {
     "data": {
      "text/plain": [
       "23"
      ]
     },
     "execution_count": 126,
     "metadata": {},
     "output_type": "execute_result"
    }
   ],
   "source": [
    "len(c) ##find the length syntax"
   ]
  },
  {
   "cell_type": "code",
   "execution_count": 91,
   "id": "30fc3e92-e2eb-4a40-a289-f214a446da57",
   "metadata": {},
   "outputs": [],
   "source": [
    "ram = 'Raydav'"
   ]
  },
  {
   "cell_type": "code",
   "execution_count": 93,
   "id": "b23b82ce-e093-4be7-9180-dcad3b06ac57",
   "metadata": {},
   "outputs": [
    {
     "data": {
      "text/plain": [
       "2"
      ]
     },
     "execution_count": 93,
     "metadata": {},
     "output_type": "execute_result"
    }
   ],
   "source": [
    "ram.find('y') #find the values"
   ]
  },
  {
   "cell_type": "code",
   "execution_count": 94,
   "id": "7183f63a-1257-4ad9-91f3-cf2482abd838",
   "metadata": {},
   "outputs": [
    {
     "data": {
      "text/plain": [
       "9"
      ]
     },
     "execution_count": 94,
     "metadata": {},
     "output_type": "execute_result"
    }
   ],
   "source": [
    "c.find('y')"
   ]
  },
  {
   "cell_type": "code",
   "execution_count": 95,
   "id": "8956b033-deca-4375-9c7a-41ba157f466c",
   "metadata": {},
   "outputs": [
    {
     "data": {
      "text/plain": [
       "2"
      ]
     },
     "execution_count": 95,
     "metadata": {},
     "output_type": "execute_result"
    }
   ],
   "source": [
    "c.find(\"is\")"
   ]
  },
  {
   "cell_type": "code",
   "execution_count": 96,
   "id": "9d5c4c6c-d74a-4099-8eab-0e73da15630c",
   "metadata": {},
   "outputs": [
    {
     "data": {
      "text/plain": [
       "11"
      ]
     },
     "execution_count": 96,
     "metadata": {},
     "output_type": "execute_result"
    }
   ],
   "source": [
    "c.find('st')"
   ]
  },
  {
   "cell_type": "code",
   "execution_count": 99,
   "id": "f45904e8-aa14-45a9-b0fd-c1d2c48ccf9b",
   "metadata": {},
   "outputs": [
    {
     "data": {
      "text/plain": [
       "5"
      ]
     },
     "execution_count": 99,
     "metadata": {},
     "output_type": "execute_result"
    }
   ],
   "source": [
    "c.count('s')"
   ]
  },
  {
   "cell_type": "code",
   "execution_count": 102,
   "id": "abf4fc4f-a858-4f24-bcc2-8a746de8047f",
   "metadata": {},
   "outputs": [
    {
     "data": {
      "text/plain": [
       "0"
      ]
     },
     "execution_count": 102,
     "metadata": {},
     "output_type": "execute_result"
    }
   ],
   "source": [
    "c.count('z')"
   ]
  },
  {
   "cell_type": "code",
   "execution_count": 103,
   "id": "a987f48b-f1b7-4282-98ee-33aa34cc6c12",
   "metadata": {},
   "outputs": [
    {
     "data": {
      "text/plain": [
       "'THIS IS MY STRING CLASS'"
      ]
     },
     "execution_count": 103,
     "metadata": {},
     "output_type": "execute_result"
    }
   ],
   "source": [
    "c.upper()"
   ]
  },
  {
   "cell_type": "code",
   "execution_count": 104,
   "id": "7316525d-a29d-4f4e-abd2-0584c2ec884f",
   "metadata": {},
   "outputs": [],
   "source": [
    "c = 'THIS IS MY STRING CLASS'"
   ]
  },
  {
   "cell_type": "code",
   "execution_count": 105,
   "id": "29ac5660-3d39-4868-9ce3-701232a6bb73",
   "metadata": {},
   "outputs": [
    {
     "data": {
      "text/plain": [
       "'this is my string class'"
      ]
     },
     "execution_count": 105,
     "metadata": {},
     "output_type": "execute_result"
    }
   ],
   "source": [
    "c.lower()"
   ]
  },
  {
   "cell_type": "code",
   "execution_count": 106,
   "id": "612f0bf7-0eda-489f-9389-f5c768697460",
   "metadata": {},
   "outputs": [
    {
     "data": {
      "text/plain": [
       "'This Is My String Class'"
      ]
     },
     "execution_count": 106,
     "metadata": {},
     "output_type": "execute_result"
    }
   ],
   "source": [
    "c.title()"
   ]
  },
  {
   "cell_type": "code",
   "execution_count": 107,
   "id": "67ecc296-7ed1-4cb3-a617-9725ea1f4487",
   "metadata": {},
   "outputs": [
    {
     "data": {
      "text/plain": [
       "'This is my string class'"
      ]
     },
     "execution_count": 107,
     "metadata": {},
     "output_type": "execute_result"
    }
   ],
   "source": [
    "c.capitalize()"
   ]
  },
  {
   "cell_type": "code",
   "execution_count": 108,
   "id": "07bd74e6-c472-4499-b019-0442a56437e1",
   "metadata": {},
   "outputs": [
    {
     "data": {
      "text/plain": [
       "'Raydav'"
      ]
     },
     "execution_count": 108,
     "metadata": {},
     "output_type": "execute_result"
    }
   ],
   "source": [
    "ram"
   ]
  },
  {
   "cell_type": "code",
   "execution_count": 109,
   "id": "b9f64a66-a2a5-45fe-8146-7814a230e3ed",
   "metadata": {},
   "outputs": [
    {
     "ename": "TypeError",
     "evalue": "can only concatenate str (not \"int\") to str",
     "output_type": "error",
     "traceback": [
      "\u001b[0;31m---------------------------------------------------------------------------\u001b[0m",
      "\u001b[0;31mTypeError\u001b[0m                                 Traceback (most recent call last)",
      "Cell \u001b[0;32mIn[109], line 1\u001b[0m\n\u001b[0;32m----> 1\u001b[0m \u001b[43mram\u001b[49m\u001b[43m \u001b[49m\u001b[38;5;241;43m+\u001b[39;49m\u001b[43m \u001b[49m\u001b[38;5;241;43m1\u001b[39;49m\n",
      "\u001b[0;31mTypeError\u001b[0m: can only concatenate str (not \"int\") to str"
     ]
    }
   ],
   "source": [
    "ram + 1"
   ]
  },
  {
   "cell_type": "code",
   "execution_count": 110,
   "id": "6cd22652-3907-466f-b941-7ccf40850694",
   "metadata": {},
   "outputs": [],
   "source": [
    "m = \"Ram\""
   ]
  },
  {
   "cell_type": "code",
   "execution_count": 111,
   "id": "bae1d71a-24e8-4634-9f7f-7dac716aa279",
   "metadata": {},
   "outputs": [
    {
     "data": {
      "text/plain": [
       "'Ram'"
      ]
     },
     "execution_count": 111,
     "metadata": {},
     "output_type": "execute_result"
    }
   ],
   "source": [
    "m"
   ]
  },
  {
   "cell_type": "code",
   "execution_count": 112,
   "id": "b4a6a8c7-4f90-49f8-ac77-1dcbc1218473",
   "metadata": {},
   "outputs": [
    {
     "data": {
      "text/plain": [
       "'THIS IS MY STRING CLASSRam'"
      ]
     },
     "execution_count": 112,
     "metadata": {},
     "output_type": "execute_result"
    }
   ],
   "source": [
    "c + m"
   ]
  },
  {
   "cell_type": "code",
   "execution_count": 113,
   "id": "76bc73e9-a6eb-4264-9fff-c250504c8e5d",
   "metadata": {},
   "outputs": [
    {
     "data": {
      "text/plain": [
       "'Pwskill1'"
      ]
     },
     "execution_count": 113,
     "metadata": {},
     "output_type": "execute_result"
    }
   ],
   "source": [
    "s + str(1)"
   ]
  },
  {
   "cell_type": "code",
   "execution_count": 114,
   "id": "32fb4a40-7e0f-406a-ba61-2e766ff18061",
   "metadata": {},
   "outputs": [
    {
     "data": {
      "text/plain": [
       "'Raydav5'"
      ]
     },
     "execution_count": 114,
     "metadata": {},
     "output_type": "execute_result"
    }
   ],
   "source": [
    "ram + str(5)"
   ]
  },
  {
   "cell_type": "code",
   "execution_count": 115,
   "id": "ac11e3d0-8f9e-4951-a3d3-b7051d906b63",
   "metadata": {},
   "outputs": [
    {
     "data": {
      "text/plain": [
       "'RaydavRaydavRaydav'"
      ]
     },
     "execution_count": 115,
     "metadata": {},
     "output_type": "execute_result"
    }
   ],
   "source": [
    "ram * 3"
   ]
  },
  {
   "cell_type": "code",
   "execution_count": 116,
   "id": "cb929fac-7ba9-45a8-8f28-ce1e1ffa8732",
   "metadata": {},
   "outputs": [
    {
     "ename": "TypeError",
     "evalue": "unsupported operand type(s) for /: 'str' and 'int'",
     "output_type": "error",
     "traceback": [
      "\u001b[0;31m---------------------------------------------------------------------------\u001b[0m",
      "\u001b[0;31mTypeError\u001b[0m                                 Traceback (most recent call last)",
      "Cell \u001b[0;32mIn[116], line 1\u001b[0m\n\u001b[0;32m----> 1\u001b[0m \u001b[38;5;124;43m\"\u001b[39;49m\u001b[38;5;124;43mram\u001b[39;49m\u001b[38;5;124;43m\"\u001b[39;49m\u001b[43m \u001b[49m\u001b[38;5;241;43m/\u001b[39;49m\u001b[38;5;241;43m5\u001b[39;49m\n",
      "\u001b[0;31mTypeError\u001b[0m: unsupported operand type(s) for /: 'str' and 'int'"
     ]
    }
   ],
   "source": [
    "\"ram\" /5"
   ]
  },
  {
   "cell_type": "code",
   "execution_count": 117,
   "id": "836df8ee-0ae9-4973-aded-52c6681a3a4f",
   "metadata": {},
   "outputs": [
    {
     "data": {
      "text/plain": [
       "\"don't do copy and paste in my class\""
      ]
     },
     "execution_count": 117,
     "metadata": {},
     "output_type": "execute_result"
    }
   ],
   "source": [
    "\"don't do copy and paste in my class\""
   ]
  },
  {
   "cell_type": "code",
   "execution_count": 120,
   "id": "838fd262-5dbc-46a7-b876-e34d4b4234d6",
   "metadata": {},
   "outputs": [
    {
     "ename": "SyntaxError",
     "evalue": "unterminated string literal (detected at line 1) (3102642506.py, line 1)",
     "output_type": "error",
     "traceback": [
      "\u001b[0;36m  Cell \u001b[0;32mIn[120], line 1\u001b[0;36m\u001b[0m\n\u001b[0;31m    \"don\"t do copy and paste in my class\"\u001b[0m\n\u001b[0m                                        ^\u001b[0m\n\u001b[0;31mSyntaxError\u001b[0m\u001b[0;31m:\u001b[0m unterminated string literal (detected at line 1)\n"
     ]
    }
   ],
   "source": [
    "\"don\"t do copy and paste in my class\""
   ]
  },
  {
   "cell_type": "code",
   "execution_count": 121,
   "id": "0951ccf6-a044-4706-ad54-7a8e09620fd5",
   "metadata": {},
   "outputs": [
    {
     "data": {
      "text/plain": [
       "'don\"t do copy and paste in my class'"
      ]
     },
     "execution_count": 121,
     "metadata": {},
     "output_type": "execute_result"
    }
   ],
   "source": [
    "'don\"t do copy and paste in my class'"
   ]
  },
  {
   "cell_type": "code",
   "execution_count": 123,
   "id": "0ecd0ded-fea3-4af1-a96c-6218f34ee714",
   "metadata": {},
   "outputs": [
    {
     "ename": "SyntaxError",
     "evalue": "invalid syntax (4083184849.py, line 1)",
     "output_type": "error",
     "traceback": [
      "\u001b[0;36m  Cell \u001b[0;32mIn[123], line 1\u001b[0;36m\u001b[0m\n\u001b[0;31m    This is my first class for prgramming\u001b[0m\n\u001b[0m               ^\u001b[0m\n\u001b[0;31mSyntaxError\u001b[0m\u001b[0;31m:\u001b[0m invalid syntax\n"
     ]
    }
   ],
   "source": [
    "This is my first class for prgramming"
   ]
  },
  {
   "cell_type": "code",
   "execution_count": 128,
   "id": "825b27cb-3227-468f-a536-9c52556fa5eb",
   "metadata": {},
   "outputs": [],
   "source": [
    "# #this is my first class for programming\n",
    "# \"\"\"\n",
    "# I have leant varaible decalration . data type, string, int , boolean, complex number,\n",
    "# i have seen some example of string slicing and indexing\n",
    "# i have gone though some of the string inbuilt funtion \n",
    "# apart from that i am trying to practice in my system\n",
    "# but some of us in our class are not excuting code and still they are answring which is bold\"\""
   ]
  },
  {
   "cell_type": "code",
   "execution_count": null,
   "id": "47633011-03d1-414e-bb9c-85b1f0e5edc9",
   "metadata": {},
   "outputs": [],
   "source": []
  }
 ],
 "metadata": {
  "kernelspec": {
   "display_name": "Python 3 (ipykernel)",
   "language": "python",
   "name": "python3"
  },
  "language_info": {
   "codemirror_mode": {
    "name": "ipython",
    "version": 3
   },
   "file_extension": ".py",
   "mimetype": "text/x-python",
   "name": "python",
   "nbconvert_exporter": "python",
   "pygments_lexer": "ipython3",
   "version": "3.10.8"
  },
  "toc-autonumbering": true
 },
 "nbformat": 4,
 "nbformat_minor": 5
}
